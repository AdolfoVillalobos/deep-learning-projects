{
  "nbformat": 4,
  "nbformat_minor": 0,
  "metadata": {
    "accelerator": "GPU",
    "colab": {
      "name": "TF-C3-W3- Sarcasm Data - Sequence Classification.ipynb",
      "provenance": [],
      "collapsed_sections": []
    },
    "kernelspec": {
      "display_name": "Python 3",
      "language": "python",
      "name": "python3"
    },
    "language_info": {
      "codemirror_mode": {
        "name": "ipython",
        "version": 3
      },
      "file_extension": ".py",
      "mimetype": "text/x-python",
      "name": "python",
      "nbconvert_exporter": "python",
      "pygments_lexer": "ipython3",
      "version": "3.7.6"
    }
  },
  "cells": [
    {
      "cell_type": "markdown",
      "metadata": {
        "id": "bHSDtvgfmc-C"
      },
      "source": [
        "<a href=\"https://colab.research.google.com/github/lmoroney/dlaicourse/blob/master/TensorFlow%20In%20Practice/Course%203%20-%20NLP/Course%203%20-%20Week%203%20-%20Lesson%202.ipynb\" target=\"_parent\"><img src=\"https://colab.research.google.com/assets/colab-badge.svg\" alt=\"Open In Colab\"/></a>"
      ]
    },
    {
      "cell_type": "code",
      "metadata": {
        "colab": {
          "base_uri": "https://localhost:8080/"
        },
        "id": "hebIKj2JnOtC",
        "outputId": "d794f98d-2ff5-4006-cee8-e0a9bf026554"
      },
      "source": [
        "!wget --no-check-certificate \\\n",
        "    https://storage.googleapis.com/laurencemoroney-blog.appspot.com/sarcasm.json \\\n",
        "    -O /tmp/sarcasm.json"
      ],
      "execution_count": 7,
      "outputs": [
        {
          "output_type": "stream",
          "text": [
            "--2020-11-24 09:40:01--  https://storage.googleapis.com/laurencemoroney-blog.appspot.com/sarcasm.json\n",
            "Resolving storage.googleapis.com (storage.googleapis.com)... 172.217.5.240, 172.217.7.240, 172.217.13.80, ...\n",
            "Connecting to storage.googleapis.com (storage.googleapis.com)|172.217.5.240|:443... connected.\n",
            "HTTP request sent, awaiting response... 200 OK\n",
            "Length: 5643545 (5.4M) [application/json]\n",
            "Saving to: ‘/tmp/sarcasm.json’\n",
            "\n",
            "\r/tmp/sarcasm.json     0%[                    ]       0  --.-KB/s               \r/tmp/sarcasm.json   100%[===================>]   5.38M  --.-KB/s    in 0.03s   \n",
            "\n",
            "2020-11-24 09:40:01 (186 MB/s) - ‘/tmp/sarcasm.json’ saved [5643545/5643545]\n",
            "\n"
          ],
          "name": "stdout"
        }
      ]
    },
    {
      "cell_type": "code",
      "metadata": {
        "id": "NkxO318HnRAK"
      },
      "source": [
        "import numpy as np\n",
        "\n",
        "import json\n",
        "import tensorflow as tf\n",
        "\n",
        "from tensorflow.keras.preprocessing.text import Tokenizer\n",
        "from tensorflow.keras.preprocessing.sequence import pad_sequences\n",
        "\n",
        "import matplotlib.pyplot as plt"
      ],
      "execution_count": 8,
      "outputs": []
    },
    {
      "cell_type": "markdown",
      "metadata": {
        "id": "lg6p71ybnU0s"
      },
      "source": [
        "## Parameters"
      ]
    },
    {
      "cell_type": "code",
      "metadata": {
        "id": "2ZJu_gvZnYon"
      },
      "source": [
        "vocab_size = 1000\n",
        "embedding_dim = 16\n",
        "max_length = 120\n",
        "trunc_type='post'\n",
        "padding_type='post'\n",
        "oov_tok = \"<OOV>\"\n",
        "training_size = 20000"
      ],
      "execution_count": 9,
      "outputs": []
    },
    {
      "cell_type": "markdown",
      "metadata": {
        "id": "yf_3MIiBncot"
      },
      "source": [
        "## Load Data"
      ]
    },
    {
      "cell_type": "code",
      "metadata": {
        "id": "kFSSGNL8nfI0"
      },
      "source": [
        "def load_data(path, training_size):\n",
        "  with open(path, 'r') as f:\n",
        "      datastore = json.load(f)\n",
        "\n",
        "\n",
        "  sentences = []\n",
        "  labels = []\n",
        "  urls = []\n",
        "  for item in datastore:\n",
        "      sentences.append(item['headline'])\n",
        "      labels.append(item['is_sarcastic'])\n",
        "\n",
        "  training_sentences = sentences[0:training_size]\n",
        "  testing_sentences = sentences[training_size:]\n",
        "  training_labels = labels[0:training_size]\n",
        "  testing_labels = labels[training_size:]\n",
        "\n",
        "  return (training_sentences, training_labels), (testing_sentences, testing_labels)"
      ],
      "execution_count": 12,
      "outputs": []
    },
    {
      "cell_type": "code",
      "metadata": {
        "id": "TD1b3nMMnw-z"
      },
      "source": [
        "(training_sentences, training_labels), (testing_sentences, testing_labels) = load_data(path=\"/tmp/sarcasm.json\", training_size=training_size)"
      ],
      "execution_count": 14,
      "outputs": []
    },
    {
      "cell_type": "markdown",
      "metadata": {
        "id": "emeK05VsoDda"
      },
      "source": [
        "## Tokenize Data"
      ]
    },
    {
      "cell_type": "code",
      "metadata": {
        "id": "BFuSpL6woGfr"
      },
      "source": [
        "tokenizer = Tokenizer(num_words=vocab_size, oov_token=oov_tok)\n",
        "tokenizer.fit_on_texts(training_sentences)\n",
        "\n",
        "word_index = tokenizer.word_index\n",
        "\n",
        "training_sequences = tokenizer.texts_to_sequences(training_sentences)\n",
        "training_padded = pad_sequences(training_sequences, maxlen=max_length, padding=padding_type, truncating=trunc_type)\n",
        "\n",
        "testing_sequences = tokenizer.texts_to_sequences(testing_sentences)\n",
        "testing_padded = pad_sequences(testing_sequences, maxlen=max_length, padding=padding_type, truncating=trunc_type)"
      ],
      "execution_count": 15,
      "outputs": []
    },
    {
      "cell_type": "code",
      "metadata": {
        "id": "8VegVWIToOS2"
      },
      "source": [
        "training_padded = np.array(training_padded)\n",
        "training_labels = np.array(training_labels)\n",
        "testing_padded = np.array(testing_padded)\n",
        "testing_labels = np.array(testing_labels)"
      ],
      "execution_count": 16,
      "outputs": []
    },
    {
      "cell_type": "markdown",
      "metadata": {
        "id": "GOFx_vD1oLDg"
      },
      "source": [
        "## Model"
      ]
    },
    {
      "cell_type": "code",
      "metadata": {
        "colab": {
          "base_uri": "https://localhost:8080/"
        },
        "id": "7mDvcjGzoYTm",
        "outputId": "e9f501a8-b088-49a1-a034-45d262456486"
      },
      "source": [
        "model_convd1d = tf.keras.Sequential([\n",
        "    tf.keras.layers.Embedding(vocab_size, embedding_dim, input_length=max_length),\n",
        "    tf.keras.layers.Conv1D(128, 5, activation='relu'),\n",
        "    tf.keras.layers.GlobalMaxPooling1D(),\n",
        "    tf.keras.layers.Dense(24, activation='relu'),\n",
        "    tf.keras.layers.Dense(1, activation='sigmoid')\n",
        "])\n",
        "model_convd1d.compile(loss='binary_crossentropy',optimizer='adam',metrics=['accuracy'])\n",
        "model_convd1d.summary()"
      ],
      "execution_count": 17,
      "outputs": [
        {
          "output_type": "stream",
          "text": [
            "Model: \"sequential\"\n",
            "_________________________________________________________________\n",
            "Layer (type)                 Output Shape              Param #   \n",
            "=================================================================\n",
            "embedding (Embedding)        (None, 120, 16)           16000     \n",
            "_________________________________________________________________\n",
            "conv1d (Conv1D)              (None, 116, 128)          10368     \n",
            "_________________________________________________________________\n",
            "global_max_pooling1d (Global (None, 128)               0         \n",
            "_________________________________________________________________\n",
            "dense (Dense)                (None, 24)                3096      \n",
            "_________________________________________________________________\n",
            "dense_1 (Dense)              (None, 1)                 25        \n",
            "=================================================================\n",
            "Total params: 29,489\n",
            "Trainable params: 29,489\n",
            "Non-trainable params: 0\n",
            "_________________________________________________________________\n"
          ],
          "name": "stdout"
        }
      ]
    },
    {
      "cell_type": "code",
      "metadata": {
        "colab": {
          "base_uri": "https://localhost:8080/"
        },
        "id": "zptyJvQDobZK",
        "outputId": "66dfe20d-8875-41b7-8258-53a7d28aa7af"
      },
      "source": [
        "model_lstm = tf.keras.Sequential([\n",
        "    tf.keras.layers.Embedding(vocab_size, embedding_dim, input_length=max_length),\n",
        "    tf.keras.layers.Bidirectional(tf.keras.layers.LSTM(32)),\n",
        "    tf.keras.layers.Dense(24, activation='relu'),\n",
        "    tf.keras.layers.Dense(1, activation='sigmoid')\n",
        "])\n",
        "model_lstm.compile(loss='binary_crossentropy',optimizer='adam',metrics=['accuracy'])\n",
        "model_lstm.summary()"
      ],
      "execution_count": 18,
      "outputs": [
        {
          "output_type": "stream",
          "text": [
            "Model: \"sequential_1\"\n",
            "_________________________________________________________________\n",
            "Layer (type)                 Output Shape              Param #   \n",
            "=================================================================\n",
            "embedding_1 (Embedding)      (None, 120, 16)           16000     \n",
            "_________________________________________________________________\n",
            "bidirectional (Bidirectional (None, 64)                12544     \n",
            "_________________________________________________________________\n",
            "dense_2 (Dense)              (None, 24)                1560      \n",
            "_________________________________________________________________\n",
            "dense_3 (Dense)              (None, 1)                 25        \n",
            "=================================================================\n",
            "Total params: 30,129\n",
            "Trainable params: 30,129\n",
            "Non-trainable params: 0\n",
            "_________________________________________________________________\n"
          ],
          "name": "stdout"
        }
      ]
    },
    {
      "cell_type": "markdown",
      "metadata": {
        "id": "c38d9uodoltN"
      },
      "source": [
        "## Training"
      ]
    },
    {
      "cell_type": "code",
      "metadata": {
        "id": "8-WeL5EGoojA"
      },
      "source": [
        "num_epochs=50"
      ],
      "execution_count": 19,
      "outputs": []
    },
    {
      "cell_type": "code",
      "metadata": {
        "id": "jGwXGIXvFhXW",
        "colab": {
          "base_uri": "https://localhost:8080/"
        },
        "outputId": "5567e2de-fb92-4513-9e42-896dcef3c46f"
      },
      "source": [
        "\n",
        "history_lstm = model_lstm.fit(training_padded, training_labels, epochs=num_epochs, validation_data=(testing_padded, testing_labels), verbose=1)\n"
      ],
      "execution_count": 20,
      "outputs": [
        {
          "output_type": "stream",
          "text": [
            "Epoch 1/50\n",
            "625/625 [==============================] - 9s 15ms/step - loss: 0.4535 - accuracy: 0.7680 - val_loss: 0.3858 - val_accuracy: 0.8241\n",
            "Epoch 2/50\n",
            "625/625 [==============================] - 9s 14ms/step - loss: 0.3574 - accuracy: 0.8370 - val_loss: 0.3794 - val_accuracy: 0.8267\n",
            "Epoch 3/50\n",
            "625/625 [==============================] - 9s 14ms/step - loss: 0.3307 - accuracy: 0.8497 - val_loss: 0.3789 - val_accuracy: 0.8290\n",
            "Epoch 4/50\n",
            "625/625 [==============================] - 9s 14ms/step - loss: 0.3156 - accuracy: 0.8590 - val_loss: 0.3756 - val_accuracy: 0.8274\n",
            "Epoch 5/50\n",
            "625/625 [==============================] - 9s 14ms/step - loss: 0.3034 - accuracy: 0.8655 - val_loss: 0.3722 - val_accuracy: 0.8314\n",
            "Epoch 6/50\n",
            "625/625 [==============================] - 9s 14ms/step - loss: 0.2958 - accuracy: 0.8706 - val_loss: 0.3792 - val_accuracy: 0.8308\n",
            "Epoch 7/50\n",
            "625/625 [==============================] - 9s 14ms/step - loss: 0.2872 - accuracy: 0.8724 - val_loss: 0.3758 - val_accuracy: 0.8322\n",
            "Epoch 8/50\n",
            "625/625 [==============================] - 9s 14ms/step - loss: 0.2798 - accuracy: 0.8787 - val_loss: 0.3929 - val_accuracy: 0.8272\n",
            "Epoch 9/50\n",
            "625/625 [==============================] - 9s 15ms/step - loss: 0.2736 - accuracy: 0.8804 - val_loss: 0.3908 - val_accuracy: 0.8272\n",
            "Epoch 10/50\n",
            "625/625 [==============================] - 9s 14ms/step - loss: 0.2628 - accuracy: 0.8874 - val_loss: 0.3918 - val_accuracy: 0.8293\n",
            "Epoch 11/50\n",
            "625/625 [==============================] - 9s 14ms/step - loss: 0.2549 - accuracy: 0.8906 - val_loss: 0.4103 - val_accuracy: 0.8269\n",
            "Epoch 12/50\n",
            "625/625 [==============================] - 9s 14ms/step - loss: 0.2468 - accuracy: 0.8931 - val_loss: 0.4475 - val_accuracy: 0.8226\n",
            "Epoch 13/50\n",
            "625/625 [==============================] - 9s 14ms/step - loss: 0.2417 - accuracy: 0.8969 - val_loss: 0.4311 - val_accuracy: 0.8231\n",
            "Epoch 14/50\n",
            "625/625 [==============================] - 9s 14ms/step - loss: 0.2342 - accuracy: 0.9009 - val_loss: 0.4426 - val_accuracy: 0.8219\n",
            "Epoch 15/50\n",
            "625/625 [==============================] - 9s 14ms/step - loss: 0.2281 - accuracy: 0.9046 - val_loss: 0.4473 - val_accuracy: 0.8225\n",
            "Epoch 16/50\n",
            "625/625 [==============================] - 9s 14ms/step - loss: 0.2210 - accuracy: 0.9089 - val_loss: 0.4399 - val_accuracy: 0.8243\n",
            "Epoch 17/50\n",
            "625/625 [==============================] - 9s 14ms/step - loss: 0.2142 - accuracy: 0.9122 - val_loss: 0.4688 - val_accuracy: 0.8217\n",
            "Epoch 18/50\n",
            "625/625 [==============================] - 9s 14ms/step - loss: 0.2087 - accuracy: 0.9128 - val_loss: 0.4714 - val_accuracy: 0.8196\n",
            "Epoch 19/50\n",
            "625/625 [==============================] - 9s 14ms/step - loss: 0.2024 - accuracy: 0.9179 - val_loss: 0.4938 - val_accuracy: 0.8180\n",
            "Epoch 20/50\n",
            "625/625 [==============================] - 9s 14ms/step - loss: 0.1922 - accuracy: 0.9220 - val_loss: 0.5166 - val_accuracy: 0.8186\n",
            "Epoch 21/50\n",
            "625/625 [==============================] - 9s 14ms/step - loss: 0.1875 - accuracy: 0.9236 - val_loss: 0.5683 - val_accuracy: 0.8129\n",
            "Epoch 22/50\n",
            "625/625 [==============================] - 9s 14ms/step - loss: 0.1811 - accuracy: 0.9262 - val_loss: 0.5292 - val_accuracy: 0.8164\n",
            "Epoch 23/50\n",
            "625/625 [==============================] - 9s 15ms/step - loss: 0.1750 - accuracy: 0.9284 - val_loss: 0.5944 - val_accuracy: 0.8143\n",
            "Epoch 24/50\n",
            "625/625 [==============================] - 9s 14ms/step - loss: 0.1669 - accuracy: 0.9325 - val_loss: 0.6307 - val_accuracy: 0.8144\n",
            "Epoch 25/50\n",
            "625/625 [==============================] - 9s 14ms/step - loss: 0.1591 - accuracy: 0.9372 - val_loss: 0.6457 - val_accuracy: 0.8117\n",
            "Epoch 26/50\n",
            "625/625 [==============================] - 9s 14ms/step - loss: 0.1526 - accuracy: 0.9393 - val_loss: 0.6793 - val_accuracy: 0.8035\n",
            "Epoch 27/50\n",
            "625/625 [==============================] - 9s 14ms/step - loss: 0.1469 - accuracy: 0.9403 - val_loss: 0.7232 - val_accuracy: 0.8061\n",
            "Epoch 28/50\n",
            "625/625 [==============================] - 9s 14ms/step - loss: 0.1401 - accuracy: 0.9455 - val_loss: 0.7732 - val_accuracy: 0.8074\n",
            "Epoch 29/50\n",
            "625/625 [==============================] - 9s 14ms/step - loss: 0.1324 - accuracy: 0.9473 - val_loss: 0.7240 - val_accuracy: 0.8117\n",
            "Epoch 30/50\n",
            "625/625 [==============================] - 9s 14ms/step - loss: 0.1317 - accuracy: 0.9470 - val_loss: 0.9021 - val_accuracy: 0.8030\n",
            "Epoch 31/50\n",
            "625/625 [==============================] - 9s 14ms/step - loss: 0.1286 - accuracy: 0.9490 - val_loss: 0.8703 - val_accuracy: 0.8041\n",
            "Epoch 32/50\n",
            "625/625 [==============================] - 8s 13ms/step - loss: 0.1197 - accuracy: 0.9527 - val_loss: 0.8668 - val_accuracy: 0.8024\n",
            "Epoch 33/50\n",
            "625/625 [==============================] - 8s 14ms/step - loss: 0.1128 - accuracy: 0.9545 - val_loss: 0.9167 - val_accuracy: 0.8047\n",
            "Epoch 34/50\n",
            "625/625 [==============================] - 8s 14ms/step - loss: 0.1136 - accuracy: 0.9544 - val_loss: 0.9596 - val_accuracy: 0.8083\n",
            "Epoch 35/50\n",
            "625/625 [==============================] - 8s 14ms/step - loss: 0.1053 - accuracy: 0.9582 - val_loss: 1.0044 - val_accuracy: 0.8071\n",
            "Epoch 36/50\n",
            "625/625 [==============================] - 8s 13ms/step - loss: 0.1012 - accuracy: 0.9591 - val_loss: 1.1156 - val_accuracy: 0.8037\n",
            "Epoch 37/50\n",
            "625/625 [==============================] - 9s 14ms/step - loss: 0.1017 - accuracy: 0.9589 - val_loss: 1.1397 - val_accuracy: 0.8061\n",
            "Epoch 38/50\n",
            "625/625 [==============================] - 9s 14ms/step - loss: 0.0922 - accuracy: 0.9642 - val_loss: 1.2207 - val_accuracy: 0.8003\n",
            "Epoch 39/50\n",
            "625/625 [==============================] - 8s 14ms/step - loss: 0.0902 - accuracy: 0.9629 - val_loss: 1.2983 - val_accuracy: 0.7998\n",
            "Epoch 40/50\n",
            "625/625 [==============================] - 9s 14ms/step - loss: 0.0955 - accuracy: 0.9613 - val_loss: 1.1427 - val_accuracy: 0.8058\n",
            "Epoch 41/50\n",
            "625/625 [==============================] - 9s 14ms/step - loss: 0.0853 - accuracy: 0.9666 - val_loss: 1.2989 - val_accuracy: 0.8038\n",
            "Epoch 42/50\n",
            "625/625 [==============================] - 9s 14ms/step - loss: 0.0839 - accuracy: 0.9660 - val_loss: 1.2831 - val_accuracy: 0.8030\n",
            "Epoch 43/50\n",
            "625/625 [==============================] - 9s 14ms/step - loss: 0.0782 - accuracy: 0.9682 - val_loss: 1.3931 - val_accuracy: 0.8027\n",
            "Epoch 44/50\n",
            "625/625 [==============================] - 9s 14ms/step - loss: 0.0758 - accuracy: 0.9686 - val_loss: 1.4359 - val_accuracy: 0.8021\n",
            "Epoch 45/50\n",
            "625/625 [==============================] - 9s 14ms/step - loss: 0.0705 - accuracy: 0.9705 - val_loss: 1.6036 - val_accuracy: 0.7970\n",
            "Epoch 46/50\n",
            "625/625 [==============================] - 9s 14ms/step - loss: 0.0683 - accuracy: 0.9719 - val_loss: 1.4996 - val_accuracy: 0.7991\n",
            "Epoch 47/50\n",
            "625/625 [==============================] - 9s 14ms/step - loss: 0.0759 - accuracy: 0.9699 - val_loss: 1.5296 - val_accuracy: 0.8031\n",
            "Epoch 48/50\n",
            "625/625 [==============================] - 9s 14ms/step - loss: 0.0698 - accuracy: 0.9720 - val_loss: 1.6359 - val_accuracy: 0.7977\n",
            "Epoch 49/50\n",
            "625/625 [==============================] - 9s 14ms/step - loss: 0.0629 - accuracy: 0.9748 - val_loss: 1.6530 - val_accuracy: 0.8025\n",
            "Epoch 50/50\n",
            "625/625 [==============================] - 9s 14ms/step - loss: 0.0651 - accuracy: 0.9732 - val_loss: 1.6093 - val_accuracy: 0.7980\n"
          ],
          "name": "stdout"
        }
      ]
    },
    {
      "cell_type": "code",
      "metadata": {
        "colab": {
          "base_uri": "https://localhost:8080/"
        },
        "id": "4CXtqUDrou5t",
        "outputId": "6735ed78-7b58-415d-a271-1b63b84ba164"
      },
      "source": [
        "history_conv1d = model_convd1d.fit(training_padded, training_labels, epochs=num_epochs, validation_data=(testing_padded, testing_labels), verbose=1)\n"
      ],
      "execution_count": 21,
      "outputs": [
        {
          "output_type": "stream",
          "text": [
            "Epoch 1/50\n",
            "625/625 [==============================] - 3s 4ms/step - loss: 0.4653 - accuracy: 0.7686 - val_loss: 0.4055 - val_accuracy: 0.8144\n",
            "Epoch 2/50\n",
            "625/625 [==============================] - 3s 4ms/step - loss: 0.3571 - accuracy: 0.8411 - val_loss: 0.3975 - val_accuracy: 0.8207\n",
            "Epoch 3/50\n",
            "625/625 [==============================] - 2s 4ms/step - loss: 0.3185 - accuracy: 0.8592 - val_loss: 0.4127 - val_accuracy: 0.8173\n",
            "Epoch 4/50\n",
            "625/625 [==============================] - 2s 4ms/step - loss: 0.2867 - accuracy: 0.8777 - val_loss: 0.3971 - val_accuracy: 0.8235\n",
            "Epoch 5/50\n",
            "625/625 [==============================] - 3s 4ms/step - loss: 0.2502 - accuracy: 0.8933 - val_loss: 0.4265 - val_accuracy: 0.8162\n",
            "Epoch 6/50\n",
            "625/625 [==============================] - 3s 4ms/step - loss: 0.2182 - accuracy: 0.9101 - val_loss: 0.4638 - val_accuracy: 0.8113\n",
            "Epoch 7/50\n",
            "625/625 [==============================] - 2s 4ms/step - loss: 0.1848 - accuracy: 0.9276 - val_loss: 0.5168 - val_accuracy: 0.8086\n",
            "Epoch 8/50\n",
            "625/625 [==============================] - 2s 4ms/step - loss: 0.1564 - accuracy: 0.9402 - val_loss: 0.5795 - val_accuracy: 0.8071\n",
            "Epoch 9/50\n",
            "625/625 [==============================] - 3s 4ms/step - loss: 0.1292 - accuracy: 0.9516 - val_loss: 0.6595 - val_accuracy: 0.8049\n",
            "Epoch 10/50\n",
            "625/625 [==============================] - 3s 4ms/step - loss: 0.1079 - accuracy: 0.9590 - val_loss: 0.7287 - val_accuracy: 0.7988\n",
            "Epoch 11/50\n",
            "625/625 [==============================] - 3s 4ms/step - loss: 0.0915 - accuracy: 0.9666 - val_loss: 0.7869 - val_accuracy: 0.7949\n",
            "Epoch 12/50\n",
            "625/625 [==============================] - 2s 4ms/step - loss: 0.0741 - accuracy: 0.9748 - val_loss: 0.9138 - val_accuracy: 0.7952\n",
            "Epoch 13/50\n",
            "625/625 [==============================] - 2s 4ms/step - loss: 0.0618 - accuracy: 0.9790 - val_loss: 0.9612 - val_accuracy: 0.7953\n",
            "Epoch 14/50\n",
            "625/625 [==============================] - 2s 4ms/step - loss: 0.0537 - accuracy: 0.9813 - val_loss: 1.1176 - val_accuracy: 0.7958\n",
            "Epoch 15/50\n",
            "625/625 [==============================] - 2s 4ms/step - loss: 0.0534 - accuracy: 0.9803 - val_loss: 1.1391 - val_accuracy: 0.7903\n",
            "Epoch 16/50\n",
            "625/625 [==============================] - 3s 4ms/step - loss: 0.0466 - accuracy: 0.9824 - val_loss: 1.1991 - val_accuracy: 0.7953\n",
            "Epoch 17/50\n",
            "625/625 [==============================] - 2s 4ms/step - loss: 0.0430 - accuracy: 0.9844 - val_loss: 1.2606 - val_accuracy: 0.7858\n",
            "Epoch 18/50\n",
            "625/625 [==============================] - 2s 4ms/step - loss: 0.0374 - accuracy: 0.9862 - val_loss: 1.3954 - val_accuracy: 0.7880\n",
            "Epoch 19/50\n",
            "625/625 [==============================] - 2s 4ms/step - loss: 0.0400 - accuracy: 0.9853 - val_loss: 1.4623 - val_accuracy: 0.7845\n",
            "Epoch 20/50\n",
            "625/625 [==============================] - 2s 4ms/step - loss: 0.0344 - accuracy: 0.9873 - val_loss: 1.5533 - val_accuracy: 0.7870\n",
            "Epoch 21/50\n",
            "625/625 [==============================] - 3s 4ms/step - loss: 0.0322 - accuracy: 0.9881 - val_loss: 1.5811 - val_accuracy: 0.7830\n",
            "Epoch 22/50\n",
            "625/625 [==============================] - 3s 4ms/step - loss: 0.0318 - accuracy: 0.9886 - val_loss: 1.6099 - val_accuracy: 0.7870\n",
            "Epoch 23/50\n",
            "625/625 [==============================] - 2s 4ms/step - loss: 0.0316 - accuracy: 0.9875 - val_loss: 1.6574 - val_accuracy: 0.7891\n",
            "Epoch 24/50\n",
            "625/625 [==============================] - 2s 4ms/step - loss: 0.0325 - accuracy: 0.9872 - val_loss: 1.6042 - val_accuracy: 0.7846\n",
            "Epoch 25/50\n",
            "625/625 [==============================] - 3s 4ms/step - loss: 0.0290 - accuracy: 0.9886 - val_loss: 1.7756 - val_accuracy: 0.7839\n",
            "Epoch 26/50\n",
            "625/625 [==============================] - 2s 4ms/step - loss: 0.0279 - accuracy: 0.9888 - val_loss: 1.9159 - val_accuracy: 0.7816\n",
            "Epoch 27/50\n",
            "625/625 [==============================] - 2s 4ms/step - loss: 0.0343 - accuracy: 0.9860 - val_loss: 1.9361 - val_accuracy: 0.7858\n",
            "Epoch 28/50\n",
            "625/625 [==============================] - 2s 4ms/step - loss: 0.0296 - accuracy: 0.9887 - val_loss: 1.8563 - val_accuracy: 0.7861\n",
            "Epoch 29/50\n",
            "625/625 [==============================] - 3s 4ms/step - loss: 0.0275 - accuracy: 0.9890 - val_loss: 1.9937 - val_accuracy: 0.7801\n",
            "Epoch 30/50\n",
            "625/625 [==============================] - 2s 4ms/step - loss: 0.0250 - accuracy: 0.9899 - val_loss: 1.9958 - val_accuracy: 0.7874\n",
            "Epoch 31/50\n",
            "625/625 [==============================] - 2s 4ms/step - loss: 0.0236 - accuracy: 0.9898 - val_loss: 1.9290 - val_accuracy: 0.7800\n",
            "Epoch 32/50\n",
            "625/625 [==============================] - 3s 4ms/step - loss: 0.0242 - accuracy: 0.9897 - val_loss: 2.0438 - val_accuracy: 0.7891\n",
            "Epoch 33/50\n",
            "625/625 [==============================] - 3s 4ms/step - loss: 0.0262 - accuracy: 0.9898 - val_loss: 2.0238 - val_accuracy: 0.7797\n",
            "Epoch 34/50\n",
            "625/625 [==============================] - 3s 4ms/step - loss: 0.0229 - accuracy: 0.9901 - val_loss: 2.0623 - val_accuracy: 0.7855\n",
            "Epoch 35/50\n",
            "625/625 [==============================] - 2s 4ms/step - loss: 0.0262 - accuracy: 0.9895 - val_loss: 2.0342 - val_accuracy: 0.7843\n",
            "Epoch 36/50\n",
            "625/625 [==============================] - 2s 4ms/step - loss: 0.0278 - accuracy: 0.9886 - val_loss: 2.0359 - val_accuracy: 0.7860\n",
            "Epoch 37/50\n",
            "625/625 [==============================] - 2s 4ms/step - loss: 0.0228 - accuracy: 0.9906 - val_loss: 2.2656 - val_accuracy: 0.7846\n",
            "Epoch 38/50\n",
            "625/625 [==============================] - 2s 4ms/step - loss: 0.0216 - accuracy: 0.9907 - val_loss: 2.2088 - val_accuracy: 0.7889\n",
            "Epoch 39/50\n",
            "625/625 [==============================] - 2s 4ms/step - loss: 0.0235 - accuracy: 0.9901 - val_loss: 2.1890 - val_accuracy: 0.7874\n",
            "Epoch 40/50\n",
            "625/625 [==============================] - 2s 4ms/step - loss: 0.0198 - accuracy: 0.9922 - val_loss: 2.3772 - val_accuracy: 0.7839\n",
            "Epoch 41/50\n",
            "625/625 [==============================] - 2s 4ms/step - loss: 0.0189 - accuracy: 0.9919 - val_loss: 2.4109 - val_accuracy: 0.7879\n",
            "Epoch 42/50\n",
            "625/625 [==============================] - 3s 4ms/step - loss: 0.0200 - accuracy: 0.9915 - val_loss: 2.3272 - val_accuracy: 0.7837\n",
            "Epoch 43/50\n",
            "625/625 [==============================] - 2s 4ms/step - loss: 0.0240 - accuracy: 0.9900 - val_loss: 2.3774 - val_accuracy: 0.7864\n",
            "Epoch 44/50\n",
            "625/625 [==============================] - 2s 4ms/step - loss: 0.0234 - accuracy: 0.9898 - val_loss: 2.3411 - val_accuracy: 0.7864\n",
            "Epoch 45/50\n",
            "625/625 [==============================] - 3s 4ms/step - loss: 0.0221 - accuracy: 0.9912 - val_loss: 2.3863 - val_accuracy: 0.7766\n",
            "Epoch 46/50\n",
            "625/625 [==============================] - 2s 4ms/step - loss: 0.0206 - accuracy: 0.9913 - val_loss: 2.5104 - val_accuracy: 0.7839\n",
            "Epoch 47/50\n",
            "625/625 [==============================] - 2s 4ms/step - loss: 0.0197 - accuracy: 0.9907 - val_loss: 2.5578 - val_accuracy: 0.7876\n",
            "Epoch 48/50\n",
            "625/625 [==============================] - 2s 4ms/step - loss: 0.0190 - accuracy: 0.9916 - val_loss: 2.5152 - val_accuracy: 0.7818\n",
            "Epoch 49/50\n",
            "625/625 [==============================] - 3s 4ms/step - loss: 0.0197 - accuracy: 0.9913 - val_loss: 2.5267 - val_accuracy: 0.7816\n",
            "Epoch 50/50\n",
            "625/625 [==============================] - 3s 4ms/step - loss: 0.0193 - accuracy: 0.9916 - val_loss: 2.6676 - val_accuracy: 0.7858\n"
          ],
          "name": "stdout"
        }
      ]
    },
    {
      "cell_type": "markdown",
      "metadata": {
        "id": "2frgRT-xo2BX"
      },
      "source": [
        "## Results"
      ]
    },
    {
      "cell_type": "code",
      "metadata": {
        "id": "Zd-3c9gvo1ZO"
      },
      "source": [
        ""
      ],
      "execution_count": null,
      "outputs": []
    },
    {
      "cell_type": "code",
      "metadata": {
        "id": "g9DC6dmLF8DC"
      },
      "source": [
        "\n",
        "def plot_graphs(history, string):\n",
        "  plt.plot(history.history[string])\n",
        "  plt.plot(history.history['val_'+string])\n",
        "  plt.xlabel(\"Epochs\")\n",
        "  plt.ylabel(string)\n",
        "  plt.legend([string, 'val_'+string])\n",
        "  plt.show()\n"
      ],
      "execution_count": 23,
      "outputs": []
    },
    {
      "cell_type": "code",
      "metadata": {
        "colab": {
          "base_uri": "https://localhost:8080/",
          "height": 541
        },
        "id": "lZycMo6Vo6bv",
        "outputId": "f3b7afe2-6c6d-4083-9f36-e852eab05966"
      },
      "source": [
        "plot_graphs(history_lstm, 'accuracy')\n",
        "plot_graphs(history_lstm, 'loss')"
      ],
      "execution_count": 24,
      "outputs": [
        {
          "output_type": "display_data",
          "data": {
            "image/png": "[encoded data removed]",
            "text/plain": [
              "<Figure size 432x288 with 1 Axes>"
            ]
          },
          "metadata": {
            "tags": [],
            "needs_background": "light"
          }
        },
        {
          "output_type": "display_data",
          "data": {
            "image/png": "[encoded data removed]",
            "text/plain": [
              "<Figure size 432x288 with 1 Axes>"
            ]
          },
          "metadata": {
            "tags": [],
            "needs_background": "light"
          }
        }
      ]
    },
    {
      "cell_type": "code",
      "metadata": {
        "colab": {
          "base_uri": "https://localhost:8080/",
          "height": 542
        },
        "id": "AcAsG3C4o-ri",
        "outputId": "08f4a466-f463-425b-f494-4054b760b489"
      },
      "source": [
        "plot_graphs(history_conv1d, 'accuracy')\n",
        "plot_graphs(history_conv1d, 'loss')"
      ],
      "execution_count": 25,
      "outputs": [
        {
          "output_type": "display_data",
          "data": {
            "image/png": "[encoded data removed]",
            "text/plain": [
              "<Figure size 432x288 with 1 Axes>"
            ]
          },
          "metadata": {
            "tags": [],
            "needs_background": "light"
          }
        },
        {
          "output_type": "display_data",
          "data": {
            "image/png": "[encoded data removed]",
            "text/plain": [
              "<Figure size 432x288 with 1 Axes>"
            ]
          },
          "metadata": {
            "tags": [],
            "needs_background": "light"
          }
        }
      ]
    },
    {
      "cell_type": "code",
      "metadata": {
        "id": "7ZEZIUppGhdi"
      },
      "source": [
        "model_lstm.save(\"test_lstm.h5\")\n",
        "model_convd1d.save(\"test_conv1d.h5\")"
      ],
      "execution_count": 27,
      "outputs": []
    },
    {
      "cell_type": "code",
      "metadata": {
        "id": "-0vYHvfppLKW"
      },
      "source": [
        ""
      ],
      "execution_count": null,
      "outputs": []
    }
  ]
}