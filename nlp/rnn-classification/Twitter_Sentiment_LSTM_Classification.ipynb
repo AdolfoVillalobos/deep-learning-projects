{
  "nbformat": 4,
  "nbformat_minor": 0,
  "metadata": {
    "colab": {
      "name": "Twitter Sentiment - LSTM Classification.ipynb",
      "provenance": []
    },
    "kernelspec": {
      "name": "python3",
      "display_name": "Python 3"
    },
    "accelerator": "GPU"
  },
  "cells": [
    {
      "cell_type": "code",
      "metadata": {
        "id": "2jv0v8SszNT9"
      },
      "source": [
        "import json\n",
        "import tensorflow as tf\n",
        "import csv\n",
        "import random\n",
        "import numpy as np\n",
        "\n",
        "from tensorflow.keras.preprocessing.text import Tokenizer\n",
        "from tensorflow.keras.preprocessing.sequence import pad_sequences\n",
        "from tensorflow.keras.utils import to_categorical\n",
        "from tensorflow.keras import regularizers"
      ],
      "execution_count": 1,
      "outputs": []
    },
    {
      "cell_type": "code",
      "metadata": {
        "colab": {
          "base_uri": "https://localhost:8080/"
        },
        "id": "LhS1sOY7zYUp",
        "outputId": "b011473e-2cdb-4a8f-9388-2f802a2985f9"
      },
      "source": [
        "!wget --no-check-certificate \\\n",
        "    https://storage.googleapis.com/laurencemoroney-blog.appspot.com/training_cleaned.csv \\\n",
        "    -O /tmp/training_cleaned.csv"
      ],
      "execution_count": 2,
      "outputs": [
        {
          "output_type": "stream",
          "text": [
            "--2020-11-24 11:08:30--  https://storage.googleapis.com/laurencemoroney-blog.appspot.com/training_cleaned.csv\n",
            "Resolving storage.googleapis.com (storage.googleapis.com)... 172.217.15.80, 172.253.122.128, 172.217.12.240, ...\n",
            "Connecting to storage.googleapis.com (storage.googleapis.com)|172.217.15.80|:443... connected.\n",
            "HTTP request sent, awaiting response... 200 OK\n",
            "Length: 238942690 (228M) [application/octet-stream]\n",
            "Saving to: ‘/tmp/training_cleaned.csv’\n",
            "\n",
            "/tmp/training_clean 100%[===================>] 227.87M   152MB/s    in 1.5s    \n",
            "\n",
            "2020-11-24 11:08:32 (152 MB/s) - ‘/tmp/training_cleaned.csv’ saved [238942690/238942690]\n",
            "\n"
          ],
          "name": "stdout"
        }
      ]
    },
    {
      "cell_type": "markdown",
      "metadata": {
        "id": "LgfTOP_CzaHP"
      },
      "source": [
        "## Parameters"
      ]
    },
    {
      "cell_type": "code",
      "metadata": {
        "id": "_vn64dJkza9Z"
      },
      "source": [
        "embedding_dim = 100\n",
        "max_length = 16\n",
        "trunc_type='post'\n",
        "padding_type='post'\n",
        "oov_tok = \"<OOV>\"\n",
        "training_size= 160000\n",
        "test_portion=.1\n"
      ],
      "execution_count": 3,
      "outputs": []
    },
    {
      "cell_type": "markdown",
      "metadata": {
        "id": "3EW82uNGzkEO"
      },
      "source": [
        "## Load Data"
      ]
    },
    {
      "cell_type": "code",
      "metadata": {
        "id": "fNvehqEFzbPk"
      },
      "source": [
        "def load_data(path):\n",
        "  num_sentences = 0\n",
        "  corpus = []\n",
        "\n",
        "  with open(path) as csvfile:\n",
        "      reader = csv.reader(csvfile, delimiter=',')\n",
        "      for i, row in enumerate(reader):\n",
        "        label = int(row[0])\n",
        "        text = row[5]\n",
        "        if label >0:\n",
        "          label = 1\n",
        "        list_item =[text, label]\n",
        "        num_sentences = num_sentences + 1\n",
        "        corpus.append(list_item)\n",
        "  return corpus, num_sentences"
      ],
      "execution_count": 4,
      "outputs": []
    },
    {
      "cell_type": "code",
      "metadata": {
        "id": "7tA-x1UyzsLc"
      },
      "source": [
        "corpus, num_sentences = load_data(path=\"/tmp/training_cleaned.csv\")"
      ],
      "execution_count": 5,
      "outputs": []
    },
    {
      "cell_type": "code",
      "metadata": {
        "colab": {
          "base_uri": "https://localhost:8080/"
        },
        "id": "D3VqmfTa1vJY",
        "outputId": "5cbd0c01-1396-4092-b288-d5567ce9cc39"
      },
      "source": [
        "print(num_sentences)\n",
        "print(len(corpus))\n",
        "print(corpus[1])"
      ],
      "execution_count": 6,
      "outputs": [
        {
          "output_type": "stream",
          "text": [
            "1600000\n",
            "1600000\n",
            "[\"is upset that he can't update his Facebook by texting it... and might cry as a result  School today also. Blah!\", 0]\n"
          ],
          "name": "stdout"
        }
      ]
    },
    {
      "cell_type": "markdown",
      "metadata": {
        "id": "S5-uZqaN10nL"
      },
      "source": [
        "## Training Subset"
      ]
    },
    {
      "cell_type": "code",
      "metadata": {
        "id": "9w9SJRXAz-V0"
      },
      "source": [
        "def train_data(corpus, tr_size):\n",
        "  sentences = []\n",
        "  labels = []\n",
        "\n",
        "  for i in range(tr_size):\n",
        "    sentences.append(corpus[i][0])\n",
        "    labels.append(corpus[i][1])\n",
        "  return sentences, labels\n"
      ],
      "execution_count": 7,
      "outputs": []
    },
    {
      "cell_type": "code",
      "metadata": {
        "id": "tBW8ByU32SZ1"
      },
      "source": [
        "random.shuffle(corpus)\n",
        "sentences, labels = train_data(corpus, tr_size=training_size)"
      ],
      "execution_count": 8,
      "outputs": []
    },
    {
      "cell_type": "markdown",
      "metadata": {
        "id": "t1yQrJPE24wM"
      },
      "source": [
        "## Tokenize"
      ]
    },
    {
      "cell_type": "code",
      "metadata": {
        "id": "HYiWjZSu2so6"
      },
      "source": [
        "def tokenize(sentences):\n",
        "\n",
        "  tokenizer = Tokenizer()\n",
        "  tokenizer.fit_on_texts(sentences)\n",
        "\n",
        "  sequences = tokenizer.texts_to_sequences(sentences)\n",
        "  padded = pad_sequences(sequences, maxlen=max_length, padding=padding_type, truncating=trunc_type)\n",
        "\n",
        "  return padded, tokenizer"
      ],
      "execution_count": 9,
      "outputs": []
    },
    {
      "cell_type": "code",
      "metadata": {
        "id": "qIsTGImU3450"
      },
      "source": [
        "padded, tokenizer = tokenize(sentences)\n"
      ],
      "execution_count": 10,
      "outputs": []
    },
    {
      "cell_type": "code",
      "metadata": {
        "id": "mvzNy58y5Moi"
      },
      "source": [
        "word_index = tokenizer.word_index\n",
        "vocab_size = len(word_index)"
      ],
      "execution_count": 11,
      "outputs": []
    },
    {
      "cell_type": "markdown",
      "metadata": {
        "id": "_f74UwS63-y6"
      },
      "source": [
        "## Train- Test Split"
      ]
    },
    {
      "cell_type": "code",
      "metadata": {
        "id": "IbqAM3OW39qe"
      },
      "source": [
        "def train_test_split(seq, labels, test_portion):\n",
        "  split_index = int(len(labels)*test_portion)\n",
        "\n",
        "  xtrain = np.array(seq[split_index:])\n",
        "  ytrain = np.array(labels[split_index:])\n",
        "  xtest =  np.array(seq[:split_index])\n",
        "  ytest =  np.array(labels[:split_index])\n",
        "\n",
        "  return (xtrain, ytrain), (xtest, ytest)"
      ],
      "execution_count": 12,
      "outputs": []
    },
    {
      "cell_type": "code",
      "metadata": {
        "id": "Tad3TmWm4m6L"
      },
      "source": [
        "(train_sequences, train_labels), (test_sequences, test_labels) = train_test_split(padded, labels, test_portion)"
      ],
      "execution_count": 13,
      "outputs": []
    },
    {
      "cell_type": "code",
      "metadata": {
        "colab": {
          "base_uri": "https://localhost:8080/"
        },
        "id": "aRqtf3fD5IL4",
        "outputId": "2aa8e3e4-774b-46ce-caca-cc20ae1fd001"
      },
      "source": [
        "print(vocab_size)\n",
        "print(word_index['i'])\n",
        "# Expected Output\n",
        "# 138858\n",
        "# 1"
      ],
      "execution_count": 14,
      "outputs": [
        {
          "output_type": "stream",
          "text": [
            "138781\n",
            "1\n"
          ],
          "name": "stdout"
        }
      ]
    },
    {
      "cell_type": "markdown",
      "metadata": {
        "id": "_z2MVRne5ecS"
      },
      "source": [
        "## Load Pre-trained Embeddings"
      ]
    },
    {
      "cell_type": "code",
      "metadata": {
        "colab": {
          "base_uri": "https://localhost:8080/"
        },
        "id": "XTEOZPTS5iyq",
        "outputId": "8109b49c-e939-4b5d-b72f-ecc053ea1ba4"
      },
      "source": [
        "!wget --no-check-certificate \\\n",
        "    https://storage.googleapis.com/laurencemoroney-blog.appspot.com/glove.6B.100d.txt \\\n",
        "    -O /tmp/glove.6B.100d.txt"
      ],
      "execution_count": 15,
      "outputs": [
        {
          "output_type": "stream",
          "text": [
            "--2020-11-24 11:08:44--  https://storage.googleapis.com/laurencemoroney-blog.appspot.com/glove.6B.100d.txt\n",
            "Resolving storage.googleapis.com (storage.googleapis.com)... 172.217.164.144, 172.217.7.176, 142.250.73.208, ...\n",
            "Connecting to storage.googleapis.com (storage.googleapis.com)|172.217.164.144|:443... connected.\n",
            "HTTP request sent, awaiting response... 200 OK\n",
            "Length: 347116733 (331M) [text/plain]\n",
            "Saving to: ‘/tmp/glove.6B.100d.txt’\n",
            "\n",
            "/tmp/glove.6B.100d. 100%[===================>] 331.04M  87.9MB/s    in 3.8s    \n",
            "\n",
            "2020-11-24 11:08:48 (87.9 MB/s) - ‘/tmp/glove.6B.100d.txt’ saved [347116733/347116733]\n",
            "\n"
          ],
          "name": "stdout"
        }
      ]
    },
    {
      "cell_type": "code",
      "metadata": {
        "id": "JeSNm5DM5mkv"
      },
      "source": [
        "def load_embedding_layer(path, word_index, vocab_size):\n",
        "  embeddings_index = {}\n",
        "  with open(path) as f:\n",
        "    for line in f:\n",
        "      values = line.split()\n",
        "      word = values[0]\n",
        "      coefs = np.asarray(values[1:], dtype=\"float32\")\n",
        "      embeddings_index[word] = coefs\n",
        "  embeddings_matrix = np.zeros((vocab_size+1, embedding_dim))\n",
        "  for word, i in word_index.items():\n",
        "    embedding_vector = embeddings_index.get(word)\n",
        "    if embedding_vector is not None:\n",
        "      embeddings_matrix[i] = embedding_vector\n",
        "\n",
        "  return embeddings_matrix"
      ],
      "execution_count": 16,
      "outputs": []
    },
    {
      "cell_type": "code",
      "metadata": {
        "id": "NhQjDX8T6bty"
      },
      "source": [
        "embeddings_matrix = load_embedding_layer(path='/tmp/glove.6B.100d.txt', word_index=word_index, vocab_size=vocab_size)"
      ],
      "execution_count": 17,
      "outputs": []
    },
    {
      "cell_type": "code",
      "metadata": {
        "colab": {
          "base_uri": "https://localhost:8080/"
        },
        "id": "w2esaT9Y6kLO",
        "outputId": "69fdca13-a288-4a1a-b589-e9d15a86a9bc"
      },
      "source": [
        "print(len(embeddings_matrix))\n",
        "# Expected Output\n",
        "# 138859"
      ],
      "execution_count": 18,
      "outputs": [
        {
          "output_type": "stream",
          "text": [
            "138782\n"
          ],
          "name": "stdout"
        }
      ]
    },
    {
      "cell_type": "markdown",
      "metadata": {
        "id": "qyFehPE26tGQ"
      },
      "source": [
        "## Model"
      ]
    },
    {
      "cell_type": "code",
      "metadata": {
        "colab": {
          "base_uri": "https://localhost:8080/"
        },
        "id": "hB8XSW4B6o2e",
        "outputId": "5fce5bc5-a0de-47eb-f71f-89de8ba4365b"
      },
      "source": [
        "model = tf.keras.Sequential([\n",
        "    tf.keras.layers.Embedding(vocab_size+1, embedding_dim, input_length=max_length, weights=[embeddings_matrix], trainable=False),\n",
        "    tf.keras.layers.Dropout(0.2),\n",
        "    tf.keras.layers.Conv1D(64, 5, activation='relu'),\n",
        "    tf.keras.layers.MaxPooling1D(pool_size=4),\n",
        "    tf.keras.layers.LSTM(64),\n",
        "    tf.keras.layers.Dense(1, activation='sigmoid', activity_regularizer=regularizers.l2(1e-5))\n",
        "])\n",
        "model.compile(loss=\"binary_crossentropy\", optimizer=\"adam\", metrics=[\"accuracy\"])\n",
        "model.summary()"
      ],
      "execution_count": 23,
      "outputs": [
        {
          "output_type": "stream",
          "text": [
            "Model: \"sequential_2\"\n",
            "_________________________________________________________________\n",
            "Layer (type)                 Output Shape              Param #   \n",
            "=================================================================\n",
            "embedding_2 (Embedding)      (None, 16, 100)           13878200  \n",
            "_________________________________________________________________\n",
            "dropout_1 (Dropout)          (None, 16, 100)           0         \n",
            "_________________________________________________________________\n",
            "conv1d_1 (Conv1D)            (None, 12, 64)            32064     \n",
            "_________________________________________________________________\n",
            "max_pooling1d_1 (MaxPooling1 (None, 3, 64)             0         \n",
            "_________________________________________________________________\n",
            "lstm_3 (LSTM)                (None, 64)                33024     \n",
            "_________________________________________________________________\n",
            "dense_3 (Dense)              (None, 1)                 65        \n",
            "=================================================================\n",
            "Total params: 13,943,353\n",
            "Trainable params: 65,153\n",
            "Non-trainable params: 13,878,200\n",
            "_________________________________________________________________\n"
          ],
          "name": "stdout"
        }
      ]
    },
    {
      "cell_type": "markdown",
      "metadata": {
        "id": "VsjbErac69dU"
      },
      "source": [
        "## Training"
      ]
    },
    {
      "cell_type": "code",
      "metadata": {
        "colab": {
          "base_uri": "https://localhost:8080/"
        },
        "id": "bmhIrgDf68WU",
        "outputId": "cbee0488-2a6e-4991-f139-986bfe240d49"
      },
      "source": [
        "num_epochs = 50\n",
        "history = model.fit(train_sequences, train_labels, epochs=num_epochs, validation_data=(test_sequences, test_labels), verbose=2)\n",
        "\n",
        "print(\"Training Complete\")"
      ],
      "execution_count": 24,
      "outputs": [
        {
          "output_type": "stream",
          "text": [
            "Epoch 1/50\n",
            "4500/4500 - 16s - loss: 0.5660 - accuracy: 0.7003 - val_loss: 0.5288 - val_accuracy: 0.7289\n",
            "Epoch 2/50\n",
            "4500/4500 - 15s - loss: 0.5253 - accuracy: 0.7328 - val_loss: 0.5153 - val_accuracy: 0.7419\n",
            "Epoch 3/50\n",
            "4500/4500 - 15s - loss: 0.5096 - accuracy: 0.7440 - val_loss: 0.5086 - val_accuracy: 0.7456\n",
            "Epoch 4/50\n",
            "4500/4500 - 16s - loss: 0.4980 - accuracy: 0.7518 - val_loss: 0.5038 - val_accuracy: 0.7494\n",
            "Epoch 5/50\n",
            "4500/4500 - 16s - loss: 0.4896 - accuracy: 0.7587 - val_loss: 0.5040 - val_accuracy: 0.7483\n",
            "Epoch 6/50\n",
            "4500/4500 - 16s - loss: 0.4828 - accuracy: 0.7614 - val_loss: 0.5031 - val_accuracy: 0.7489\n",
            "Epoch 7/50\n",
            "4500/4500 - 17s - loss: 0.4755 - accuracy: 0.7661 - val_loss: 0.5022 - val_accuracy: 0.7527\n",
            "Epoch 8/50\n",
            "4500/4500 - 16s - loss: 0.4718 - accuracy: 0.7695 - val_loss: 0.5020 - val_accuracy: 0.7561\n",
            "Epoch 9/50\n",
            "4500/4500 - 16s - loss: 0.4666 - accuracy: 0.7721 - val_loss: 0.5056 - val_accuracy: 0.7516\n",
            "Epoch 10/50\n",
            "4500/4500 - 16s - loss: 0.4631 - accuracy: 0.7740 - val_loss: 0.5058 - val_accuracy: 0.7529\n",
            "Epoch 11/50\n",
            "4500/4500 - 16s - loss: 0.4593 - accuracy: 0.7762 - val_loss: 0.5052 - val_accuracy: 0.7498\n",
            "Epoch 12/50\n",
            "4500/4500 - 16s - loss: 0.4561 - accuracy: 0.7785 - val_loss: 0.5034 - val_accuracy: 0.7529\n",
            "Epoch 13/50\n",
            "4500/4500 - 16s - loss: 0.4531 - accuracy: 0.7807 - val_loss: 0.5086 - val_accuracy: 0.7524\n",
            "Epoch 14/50\n",
            "4500/4500 - 16s - loss: 0.4507 - accuracy: 0.7829 - val_loss: 0.5050 - val_accuracy: 0.7521\n",
            "Epoch 15/50\n",
            "4500/4500 - 16s - loss: 0.4503 - accuracy: 0.7828 - val_loss: 0.5149 - val_accuracy: 0.7471\n",
            "Epoch 16/50\n",
            "4500/4500 - 16s - loss: 0.4470 - accuracy: 0.7847 - val_loss: 0.5072 - val_accuracy: 0.7514\n",
            "Epoch 17/50\n",
            "4500/4500 - 16s - loss: 0.4455 - accuracy: 0.7863 - val_loss: 0.5136 - val_accuracy: 0.7527\n",
            "Epoch 18/50\n",
            "4500/4500 - 16s - loss: 0.4434 - accuracy: 0.7869 - val_loss: 0.5140 - val_accuracy: 0.7487\n",
            "Epoch 19/50\n",
            "4500/4500 - 16s - loss: 0.4414 - accuracy: 0.7878 - val_loss: 0.5151 - val_accuracy: 0.7477\n",
            "Epoch 20/50\n",
            "4500/4500 - 16s - loss: 0.4392 - accuracy: 0.7897 - val_loss: 0.5198 - val_accuracy: 0.7488\n",
            "Epoch 21/50\n",
            "4500/4500 - 16s - loss: 0.4395 - accuracy: 0.7891 - val_loss: 0.5147 - val_accuracy: 0.7527\n",
            "Epoch 22/50\n",
            "4500/4500 - 16s - loss: 0.4380 - accuracy: 0.7896 - val_loss: 0.5157 - val_accuracy: 0.7492\n",
            "Epoch 23/50\n",
            "4500/4500 - 16s - loss: 0.4373 - accuracy: 0.7899 - val_loss: 0.5188 - val_accuracy: 0.7463\n",
            "Epoch 24/50\n",
            "4500/4500 - 16s - loss: 0.4370 - accuracy: 0.7901 - val_loss: 0.5141 - val_accuracy: 0.7492\n",
            "Epoch 25/50\n",
            "4500/4500 - 16s - loss: 0.4349 - accuracy: 0.7913 - val_loss: 0.5199 - val_accuracy: 0.7482\n",
            "Epoch 26/50\n",
            "4500/4500 - 17s - loss: 0.4337 - accuracy: 0.7938 - val_loss: 0.5154 - val_accuracy: 0.7476\n",
            "Epoch 27/50\n",
            "4500/4500 - 16s - loss: 0.4349 - accuracy: 0.7918 - val_loss: 0.5218 - val_accuracy: 0.7480\n",
            "Epoch 28/50\n",
            "4500/4500 - 16s - loss: 0.4331 - accuracy: 0.7935 - val_loss: 0.5182 - val_accuracy: 0.7459\n",
            "Epoch 29/50\n",
            "4500/4500 - 16s - loss: 0.4322 - accuracy: 0.7948 - val_loss: 0.5198 - val_accuracy: 0.7449\n",
            "Epoch 30/50\n",
            "4500/4500 - 16s - loss: 0.4322 - accuracy: 0.7938 - val_loss: 0.5196 - val_accuracy: 0.7445\n",
            "Epoch 31/50\n",
            "4500/4500 - 16s - loss: 0.4316 - accuracy: 0.7941 - val_loss: 0.5197 - val_accuracy: 0.7462\n",
            "Epoch 32/50\n",
            "4500/4500 - 16s - loss: 0.4302 - accuracy: 0.7955 - val_loss: 0.5325 - val_accuracy: 0.7427\n",
            "Epoch 33/50\n",
            "4500/4500 - 16s - loss: 0.4304 - accuracy: 0.7955 - val_loss: 0.5236 - val_accuracy: 0.7473\n",
            "Epoch 34/50\n",
            "4500/4500 - 16s - loss: 0.4290 - accuracy: 0.7960 - val_loss: 0.5168 - val_accuracy: 0.7450\n",
            "Epoch 35/50\n",
            "4500/4500 - 16s - loss: 0.4290 - accuracy: 0.7951 - val_loss: 0.5307 - val_accuracy: 0.7452\n",
            "Epoch 36/50\n",
            "4500/4500 - 17s - loss: 0.4271 - accuracy: 0.7962 - val_loss: 0.5229 - val_accuracy: 0.7483\n",
            "Epoch 37/50\n",
            "4500/4500 - 16s - loss: 0.4287 - accuracy: 0.7960 - val_loss: 0.5225 - val_accuracy: 0.7426\n",
            "Epoch 38/50\n",
            "4500/4500 - 17s - loss: 0.4274 - accuracy: 0.7963 - val_loss: 0.5326 - val_accuracy: 0.7443\n",
            "Epoch 39/50\n",
            "4500/4500 - 15s - loss: 0.4280 - accuracy: 0.7960 - val_loss: 0.5304 - val_accuracy: 0.7473\n",
            "Epoch 40/50\n",
            "4500/4500 - 17s - loss: 0.4279 - accuracy: 0.7963 - val_loss: 0.5256 - val_accuracy: 0.7404\n",
            "Epoch 41/50\n",
            "4500/4500 - 16s - loss: 0.4268 - accuracy: 0.7964 - val_loss: 0.5250 - val_accuracy: 0.7440\n",
            "Epoch 42/50\n",
            "4500/4500 - 16s - loss: 0.4266 - accuracy: 0.7976 - val_loss: 0.5246 - val_accuracy: 0.7464\n",
            "Epoch 43/50\n",
            "4500/4500 - 16s - loss: 0.4245 - accuracy: 0.7979 - val_loss: 0.5294 - val_accuracy: 0.7467\n",
            "Epoch 44/50\n",
            "4500/4500 - 16s - loss: 0.4261 - accuracy: 0.7975 - val_loss: 0.5232 - val_accuracy: 0.7458\n",
            "Epoch 45/50\n",
            "4500/4500 - 17s - loss: 0.4250 - accuracy: 0.7984 - val_loss: 0.5292 - val_accuracy: 0.7473\n",
            "Epoch 46/50\n",
            "4500/4500 - 17s - loss: 0.4258 - accuracy: 0.7963 - val_loss: 0.5287 - val_accuracy: 0.7449\n",
            "Epoch 47/50\n",
            "4500/4500 - 16s - loss: 0.4240 - accuracy: 0.7989 - val_loss: 0.5296 - val_accuracy: 0.7412\n",
            "Epoch 48/50\n",
            "4500/4500 - 16s - loss: 0.4228 - accuracy: 0.7996 - val_loss: 0.5278 - val_accuracy: 0.7445\n",
            "Epoch 49/50\n",
            "4500/4500 - 16s - loss: 0.4226 - accuracy: 0.7992 - val_loss: 0.5270 - val_accuracy: 0.7481\n",
            "Epoch 50/50\n",
            "4500/4500 - 16s - loss: 0.4221 - accuracy: 0.7991 - val_loss: 0.5298 - val_accuracy: 0.7449\n",
            "Training Complete\n"
          ],
          "name": "stdout"
        }
      ]
    },
    {
      "cell_type": "markdown",
      "metadata": {
        "id": "ZJQCDfy57I0L"
      },
      "source": [
        "## Plot Performance"
      ]
    },
    {
      "cell_type": "code",
      "metadata": {
        "colab": {
          "base_uri": "https://localhost:8080/",
          "height": 607
        },
        "id": "aOSLg_Rv7Dcd",
        "outputId": "18e67b74-9e0a-452d-e0d1-962ca90bbfd1"
      },
      "source": [
        "import matplotlib.image  as mpimg\n",
        "import matplotlib.pyplot as plt\n",
        "\n",
        "#-----------------------------------------------------------\n",
        "# Retrieve a list of list results on training and test data\n",
        "# sets for each training epoch\n",
        "#-----------------------------------------------------------\n",
        "acc=history.history['accuracy']\n",
        "val_acc=history.history['val_accuracy']\n",
        "loss=history.history['loss']\n",
        "val_loss=history.history['val_loss']\n",
        "\n",
        "epochs=range(len(acc)) # Get number of epochs\n",
        "\n",
        "#------------------------------------------------\n",
        "# Plot training and validation accuracy per epoch\n",
        "#------------------------------------------------\n",
        "plt.plot(epochs, acc, 'r')\n",
        "plt.plot(epochs, val_acc, 'b')\n",
        "plt.title('Training and validation accuracy')\n",
        "plt.xlabel(\"Epochs\")\n",
        "plt.ylabel(\"Accuracy\")\n",
        "plt.legend([\"Accuracy\", \"Validation Accuracy\"])\n",
        "\n",
        "plt.figure()\n",
        "\n",
        "#------------------------------------------------\n",
        "# Plot training and validation loss per epoch\n",
        "#------------------------------------------------\n",
        "plt.plot(epochs, loss, 'r')\n",
        "plt.plot(epochs, val_loss, 'b')\n",
        "plt.title('Training and validation loss')\n",
        "plt.xlabel(\"Epochs\")\n",
        "plt.ylabel(\"Loss\")\n",
        "plt.legend([\"Loss\", \"Validation Loss\"])\n",
        "\n",
        "plt.figure()\n",
        "\n",
        "\n",
        "# Expected Output\n",
        "# A chart where the validation loss does not increase sharply!"
      ],
      "execution_count": 25,
      "outputs": [
        {
          "output_type": "execute_result",
          "data": {
            "text/plain": [
              "<Figure size 432x288 with 0 Axes>"
            ]
          },
          "metadata": {
            "tags": []
          },
          "execution_count": 25
        },
        {
          "output_type": "display_data",
          "data": {
            "image/png": "[encoded data removed]",
            "text/plain": [
              "<Figure size 432x288 with 1 Axes>"
            ]
          },
          "metadata": {
            "tags": [],
            "needs_background": "light"
          }
        },
        {
          "output_type": "display_data",
          "data": {
            "image/png": "[encoded data removed]",
            "text/plain": [
              "<Figure size 432x288 with 1 Axes>"
            ]
          },
          "metadata": {
            "tags": [],
            "needs_background": "light"
          }
        },
        {
          "output_type": "display_data",
          "data": {
            "text/plain": [
              "<Figure size 432x288 with 0 Axes>"
            ]
          },
          "metadata": {
            "tags": []
          }
        }
      ]
    },
    {
      "cell_type": "code",
      "metadata": {
        "id": "urD8i9Me7QU6"
      },
      "source": [
        ""
      ],
      "execution_count": null,
      "outputs": []
    }
  ]
}